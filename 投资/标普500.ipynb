{
 "cells": [
  {
   "cell_type": "code",
   "execution_count": 26,
   "id": "b39d836b-9945-401f-8dae-b253f26978e9",
   "metadata": {
    "execution": {
     "iopub.execute_input": "2024-10-17T07:47:35.149833Z",
     "iopub.status.busy": "2024-10-17T07:47:35.148370Z",
     "iopub.status.idle": "2024-10-17T07:47:35.153331Z",
     "shell.execute_reply": "2024-10-17T07:47:35.152823Z",
     "shell.execute_reply.started": "2024-10-17T07:47:35.149833Z"
    },
    "scrolled": true
   },
   "outputs": [],
   "source": [
    "from fredapi import Fred\n",
    "import pandas as pd\n",
    "\n",
    "fred = Fred(api_key='96fbe5ec82488d6adaea835176d43047')"
   ]
  },
  {
   "cell_type": "code",
   "execution_count": 28,
   "id": "bec92278-aa89-4160-aba1-76fa508cd705",
   "metadata": {
    "execution": {
     "iopub.execute_input": "2024-10-17T07:47:52.929216Z",
     "iopub.status.busy": "2024-10-17T07:47:52.929216Z",
     "iopub.status.idle": "2024-10-17T07:47:54.042018Z",
     "shell.execute_reply": "2024-10-17T07:47:54.042018Z",
     "shell.execute_reply.started": "2024-10-17T07:47:52.929216Z"
    },
    "scrolled": true
   },
   "outputs": [],
   "source": [
    "pe_data = fred.get_series('SP500')  # 替换为具体标普500 PE 数据的series ID"
   ]
  },
  {
   "cell_type": "code",
   "execution_count": 30,
   "id": "9573513e-ffa8-4f5e-b706-03a050bc8d9c",
   "metadata": {
    "execution": {
     "iopub.execute_input": "2024-10-17T07:47:57.640224Z",
     "iopub.status.busy": "2024-10-17T07:47:57.640224Z",
     "iopub.status.idle": "2024-10-17T07:47:57.650920Z",
     "shell.execute_reply": "2024-10-17T07:47:57.650459Z",
     "shell.execute_reply.started": "2024-10-17T07:47:57.640224Z"
    },
    "scrolled": true
   },
   "outputs": [
    {
     "name": "stdout",
     "output_type": "stream",
     "text": [
      "2014-10-17    1886.76\n",
      "2014-10-20    1904.01\n",
      "2014-10-21    1941.28\n",
      "2014-10-22    1927.11\n",
      "2014-10-23    1950.82\n",
      "               ...   \n",
      "2024-10-10    5780.05\n",
      "2024-10-11    5815.03\n",
      "2024-10-14    5859.85\n",
      "2024-10-15    5815.26\n",
      "2024-10-16    5842.47\n",
      "Length: 2609, dtype: float64\n"
     ]
    }
   ],
   "source": [
    "# 打印数据\n",
    "print(pe_data)"
   ]
  },
  {
   "cell_type": "code",
   "execution_count": 15,
   "id": "ef077405-3cf3-4a4c-9f0c-7a60e1802512",
   "metadata": {
    "execution": {
     "iopub.execute_input": "2024-10-17T07:30:11.866288Z",
     "iopub.status.busy": "2024-10-17T07:30:11.865286Z",
     "iopub.status.idle": "2024-10-17T07:30:11.870340Z",
     "shell.execute_reply": "2024-10-17T07:30:11.869802Z",
     "shell.execute_reply.started": "2024-10-17T07:30:11.866288Z"
    }
   },
   "outputs": [],
   "source": [
    "sp500.info[\"trailingPegRatio\"]"
   ]
  },
  {
   "cell_type": "code",
   "execution_count": null,
   "id": "41995e38-fc24-4fee-a90f-95f8b9dc8ef5",
   "metadata": {},
   "outputs": [],
   "source": [
    "print(\"标普500点位数据：\")\n",
    "print(sp500_hist['Close'])\n",
    "\n",
    "print(\"\\n标普500市盈率：\")\n",
    "print(pe_ratio)"
   ]
  },
  {
   "cell_type": "code",
   "execution_count": null,
   "id": "a7e92c53-4dce-425c-a504-46bddd6d03bc",
   "metadata": {},
   "outputs": [],
   "source": []
  },
  {
   "cell_type": "code",
   "execution_count": null,
   "id": "37a2cd56-e81a-48bf-b613-6fef4809331d",
   "metadata": {},
   "outputs": [],
   "source": []
  },
  {
   "cell_type": "code",
   "execution_count": 36,
   "id": "9c6bb51c-e2cc-44e8-a4ac-24020b67a28e",
   "metadata": {
    "execution": {
     "iopub.execute_input": "2024-10-17T07:54:12.670932Z",
     "iopub.status.busy": "2024-10-17T07:54:12.669934Z",
     "iopub.status.idle": "2024-10-17T07:54:12.673736Z",
     "shell.execute_reply": "2024-10-17T07:54:12.673457Z",
     "shell.execute_reply.started": "2024-10-17T07:54:12.670932Z"
    }
   },
   "outputs": [],
   "source": [
    "table"
   ]
  },
  {
   "cell_type": "code",
   "execution_count": 32,
   "id": "84405c33-9d72-4118-aa83-e29fcace8d3a",
   "metadata": {
    "execution": {
     "iopub.execute_input": "2024-10-17T07:53:39.487521Z",
     "iopub.status.busy": "2024-10-17T07:53:39.487521Z",
     "iopub.status.idle": "2024-10-17T07:53:40.115709Z",
     "shell.execute_reply": "2024-10-17T07:53:40.115709Z",
     "shell.execute_reply.started": "2024-10-17T07:53:39.487521Z"
    }
   },
   "outputs": [
    {
     "ename": "AttributeError",
     "evalue": "'NoneType' object has no attribute 'find_all'",
     "output_type": "error",
     "traceback": [
      "\u001b[1;31m---------------------------------------------------------------------------\u001b[0m",
      "\u001b[1;31mAttributeError\u001b[0m                            Traceback (most recent call last)",
      "Cell \u001b[1;32mIn[32], line 16\u001b[0m\n\u001b[0;32m     13\u001b[0m headers \u001b[38;5;241m=\u001b[39m []\n\u001b[0;32m     15\u001b[0m \u001b[38;5;66;03m# 获取表头\u001b[39;00m\n\u001b[1;32m---> 16\u001b[0m \u001b[38;5;28;01mfor\u001b[39;00m header \u001b[38;5;129;01min\u001b[39;00m table\u001b[38;5;241m.\u001b[39mfind_all(\u001b[38;5;124m'\u001b[39m\u001b[38;5;124mth\u001b[39m\u001b[38;5;124m'\u001b[39m):\n\u001b[0;32m     17\u001b[0m     headers\u001b[38;5;241m.\u001b[39mappend(header\u001b[38;5;241m.\u001b[39mtext)\n\u001b[0;32m     19\u001b[0m \u001b[38;5;66;03m# 获取表格内容\u001b[39;00m\n",
      "\u001b[1;31mAttributeError\u001b[0m: 'NoneType' object has no attribute 'find_all'"
     ]
    }
   ],
   "source": [
    "import requests\n",
    "from bs4 import BeautifulSoup\n",
    "import pandas as pd\n",
    "\n",
    "url = \"https://www.macrotrends.net/2526/sp-500-pe-ratio-historical-chart\"\n",
    "response = requests.get(url)\n",
    "soup = BeautifulSoup(response.text, 'html.parser')\n",
    "\n",
    "# 查找表格数据\n",
    "table = soup.find('table', {'class': 'historical_data_table table'})\n",
    "\n",
    "data = []\n",
    "headers = []\n",
    "\n",
    "# 获取表头\n",
    "for header in table.find_all('th'):\n",
    "    headers.append(header.text)\n",
    "\n",
    "# 获取表格内容\n",
    "for row in table.find_all('tr'):\n",
    "    cells = row.find_all('td')\n",
    "    if len(cells) > 0:\n",
    "        row_data = [cell.text.strip() for cell in cells]\n",
    "        data.append(row_data)\n",
    "\n",
    "# 存储为 DataFrame\n",
    "df = pd.DataFrame(data, columns=headers)\n",
    "print(df)\n"
   ]
  }
 ],
 "metadata": {
  "kernelspec": {
   "display_name": "Python 3 (ipykernel)",
   "language": "python",
   "name": "python3"
  },
  "language_info": {
   "codemirror_mode": {
    "name": "ipython",
    "version": 3
   },
   "file_extension": ".py",
   "mimetype": "text/x-python",
   "name": "python",
   "nbconvert_exporter": "python",
   "pygments_lexer": "ipython3",
   "version": "3.12.3"
  }
 },
 "nbformat": 4,
 "nbformat_minor": 5
}
