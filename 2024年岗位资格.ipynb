{
 "cells": [
  {
   "cell_type": "code",
   "execution_count": 1,
   "id": "ff1872c5-859b-4697-8b63-d6aa0a894f16",
   "metadata": {},
   "outputs": [],
   "source": [
    "import numpy as np"
   ]
  },
  {
   "cell_type": "code",
   "execution_count": 53,
   "id": "c6140785-307e-4457-8434-506013ac8cc4",
   "metadata": {},
   "outputs": [],
   "source": [
    "np.random.seed(0)\n",
    "a = np.random.normal(0,1,[2,5])"
   ]
  },
  {
   "cell_type": "code",
   "execution_count": 59,
   "id": "53b0ae2d-7107-4a5b-b4c3-1c37c80bb0c1",
   "metadata": {},
   "outputs": [
    {
     "name": "stdout",
     "output_type": "stream",
     "text": [
      "a: [[ 1.76405235  0.40015721  0.97873798  2.2408932   1.86755799]\n",
      " [-0.97727788  0.95008842 -0.15135721 -0.10321885  0.4105985 ]] \n",
      " 升序a: [[-0.97727788  0.40015721 -0.15135721 -0.10321885  0.4105985 ]\n",
      " [ 1.76405235  0.95008842  0.97873798  2.2408932   1.86755799]] \n",
      " arga: [[1 2 0 4 3]\n",
      " [0 2 3 4 1]]\n"
     ]
    }
   ],
   "source": [
    "print(\"a:\",a,\"\\n\"\n",
    "     ,\"升序a:\",np.sort(a,axis=0),\"\\n\"\n",
    "     ,\"arga:\",np.argsort(a))"
   ]
  },
  {
   "cell_type": "code",
   "execution_count": 31,
   "id": "8152cb57-08e5-4761-8006-1374e325c8f5",
   "metadata": {},
   "outputs": [
    {
     "data": {
      "text/plain": [
       "array([-0.97727788, -0.15135721, -0.10321885,  0.40015721,  0.4105985 ,\n",
       "        0.95008842,  0.97873798,  1.76405235,  1.86755799,  2.2408932 ])"
      ]
     },
     "execution_count": 31,
     "metadata": {},
     "output_type": "execute_result"
    }
   ],
   "source": [
    "np.sort(a)"
   ]
  },
  {
   "cell_type": "code",
   "execution_count": 33,
   "id": "95e7f23f-1b62-42c8-b6a8-c806f4fb97a3",
   "metadata": {},
   "outputs": [
    {
     "data": {
      "text/plain": [
       "array([5, 7, 8, 1, 9, 6, 2, 0, 4, 3], dtype=int64)"
      ]
     },
     "execution_count": 33,
     "metadata": {},
     "output_type": "execute_result"
    }
   ],
   "source": [
    "np.argsort(a)"
   ]
  }
 ],
 "metadata": {
  "kernelspec": {
   "display_name": "Python 3 (ipykernel)",
   "language": "python",
   "name": "python3"
  },
  "language_info": {
   "codemirror_mode": {
    "name": "ipython",
    "version": 3
   },
   "file_extension": ".py",
   "mimetype": "text/x-python",
   "name": "python",
   "nbconvert_exporter": "python",
   "pygments_lexer": "ipython3",
   "version": "3.12.3"
  }
 },
 "nbformat": 4,
 "nbformat_minor": 5
}
