{
 "cells": [
  {
   "cell_type": "code",
   "execution_count": 2,
   "id": "bc2c1c2e-94ad-4989-8aeb-0149272ecee4",
   "metadata": {
    "execution": {
     "iopub.execute_input": "2024-11-01T07:50:26.143792Z",
     "iopub.status.busy": "2024-11-01T07:50:26.143792Z",
     "iopub.status.idle": "2024-11-01T07:50:26.147660Z",
     "shell.execute_reply": "2024-11-01T07:50:26.147149Z",
     "shell.execute_reply.started": "2024-11-01T07:50:26.143792Z"
    }
   },
   "outputs": [],
   "source": [
    "import pandas as pd\n",
    "import os\n",
    "os.chdir(r\"C:\\Users\\BingruYan\\Data Analysis\\练习\\Titanic\")"
   ]
  },
  {
   "cell_type": "code",
   "execution_count": 6,
   "id": "0c18d5af-b64e-4ca8-bd96-ebd8a0739d40",
   "metadata": {
    "execution": {
     "iopub.execute_input": "2024-11-01T07:50:52.418742Z",
     "iopub.status.busy": "2024-11-01T07:50:52.417746Z",
     "iopub.status.idle": "2024-11-01T07:50:52.428492Z",
     "shell.execute_reply": "2024-11-01T07:50:52.427977Z",
     "shell.execute_reply.started": "2024-11-01T07:50:52.418742Z"
    }
   },
   "outputs": [],
   "source": [
    "# 载入数据\n",
    "train = pd.read_csv('data/train.csv')\n",
    "test = pd.read_csv('data/test.csv')"
   ]
  },
  {
   "cell_type": "code",
   "execution_count": 8,
   "id": "1e338260-c3a6-4094-8f5d-01e19cf5512a",
   "metadata": {
    "execution": {
     "iopub.execute_input": "2024-11-01T07:50:59.319070Z",
     "iopub.status.busy": "2024-11-01T07:50:59.319070Z",
     "iopub.status.idle": "2024-11-01T07:50:59.331452Z",
     "shell.execute_reply": "2024-11-01T07:50:59.331452Z",
     "shell.execute_reply.started": "2024-11-01T07:50:59.319070Z"
    }
   },
   "outputs": [
    {
     "name": "stderr",
     "output_type": "stream",
     "text": [
      "C:\\Users\\BingruYan\\AppData\\Local\\Temp\\ipykernel_3276\\1019671117.py:2: FutureWarning: A value is trying to be set on a copy of a DataFrame or Series through chained assignment using an inplace method.\n",
      "The behavior will change in pandas 3.0. This inplace method will never work because the intermediate object on which we are setting values always behaves as a copy.\n",
      "\n",
      "For example, when doing 'df[col].method(value, inplace=True)', try using 'df.method({col: value}, inplace=True)' or df[col] = df[col].method(value) instead, to perform the operation inplace on the original object.\n",
      "\n",
      "\n",
      "  train['Age'].fillna(train['Age'].median(), inplace=True)\n",
      "C:\\Users\\BingruYan\\AppData\\Local\\Temp\\ipykernel_3276\\1019671117.py:3: FutureWarning: A value is trying to be set on a copy of a DataFrame or Series through chained assignment using an inplace method.\n",
      "The behavior will change in pandas 3.0. This inplace method will never work because the intermediate object on which we are setting values always behaves as a copy.\n",
      "\n",
      "For example, when doing 'df[col].method(value, inplace=True)', try using 'df.method({col: value}, inplace=True)' or df[col] = df[col].method(value) instead, to perform the operation inplace on the original object.\n",
      "\n",
      "\n",
      "  test['Age'].fillna(test['Age'].median(), inplace=True)\n",
      "C:\\Users\\BingruYan\\AppData\\Local\\Temp\\ipykernel_3276\\1019671117.py:5: FutureWarning: A value is trying to be set on a copy of a DataFrame or Series through chained assignment using an inplace method.\n",
      "The behavior will change in pandas 3.0. This inplace method will never work because the intermediate object on which we are setting values always behaves as a copy.\n",
      "\n",
      "For example, when doing 'df[col].method(value, inplace=True)', try using 'df.method({col: value}, inplace=True)' or df[col] = df[col].method(value) instead, to perform the operation inplace on the original object.\n",
      "\n",
      "\n",
      "  train['Embarked'].fillna(train['Embarked'].mode()[0], inplace=True)\n",
      "C:\\Users\\BingruYan\\AppData\\Local\\Temp\\ipykernel_3276\\1019671117.py:6: FutureWarning: A value is trying to be set on a copy of a DataFrame or Series through chained assignment using an inplace method.\n",
      "The behavior will change in pandas 3.0. This inplace method will never work because the intermediate object on which we are setting values always behaves as a copy.\n",
      "\n",
      "For example, when doing 'df[col].method(value, inplace=True)', try using 'df.method({col: value}, inplace=True)' or df[col] = df[col].method(value) instead, to perform the operation inplace on the original object.\n",
      "\n",
      "\n",
      "  test['Embarked'].fillna(test['Embarked'].mode()[0], inplace=True)\n",
      "C:\\Users\\BingruYan\\AppData\\Local\\Temp\\ipykernel_3276\\1019671117.py:8: FutureWarning: A value is trying to be set on a copy of a DataFrame or Series through chained assignment using an inplace method.\n",
      "The behavior will change in pandas 3.0. This inplace method will never work because the intermediate object on which we are setting values always behaves as a copy.\n",
      "\n",
      "For example, when doing 'df[col].method(value, inplace=True)', try using 'df.method({col: value}, inplace=True)' or df[col] = df[col].method(value) instead, to perform the operation inplace on the original object.\n",
      "\n",
      "\n",
      "  train['Cabin'].fillna('Unknown', inplace=True)\n",
      "C:\\Users\\BingruYan\\AppData\\Local\\Temp\\ipykernel_3276\\1019671117.py:9: FutureWarning: A value is trying to be set on a copy of a DataFrame or Series through chained assignment using an inplace method.\n",
      "The behavior will change in pandas 3.0. This inplace method will never work because the intermediate object on which we are setting values always behaves as a copy.\n",
      "\n",
      "For example, when doing 'df[col].method(value, inplace=True)', try using 'df.method({col: value}, inplace=True)' or df[col] = df[col].method(value) instead, to perform the operation inplace on the original object.\n",
      "\n",
      "\n",
      "  test['Cabin'].fillna('Unknown', inplace=True)\n"
     ]
    }
   ],
   "source": [
    "# 处理缺失值\n",
    "train['Age'].fillna(train['Age'].median(), inplace=True)\n",
    "test['Age'].fillna(test['Age'].median(), inplace=True)\n",
    "\n",
    "train['Embarked'].fillna(train['Embarked'].mode()[0], inplace=True)\n",
    "test['Embarked'].fillna(test['Embarked'].mode()[0], inplace=True)\n",
    "\n",
    "train['Cabin'].fillna('Unknown', inplace=True)\n",
    "test['Cabin'].fillna('Unknown', inplace=True)b"
   ]
  },
  {
   "cell_type": "code",
   "execution_count": 12,
   "id": "366bb369-1a58-427a-bdde-a5babc87712e",
   "metadata": {
    "execution": {
     "iopub.execute_input": "2024-11-01T07:51:54.288987Z",
     "iopub.status.busy": "2024-11-01T07:51:54.287990Z",
     "iopub.status.idle": "2024-11-01T07:51:54.297583Z",
     "shell.execute_reply": "2024-11-01T07:51:54.297583Z",
     "shell.execute_reply.started": "2024-11-01T07:51:54.288987Z"
    }
   },
   "outputs": [
    {
     "name": "stderr",
     "output_type": "stream",
     "text": [
      "<>:2: SyntaxWarning: invalid escape sequence '\\.'\n",
      "<>:3: SyntaxWarning: invalid escape sequence '\\.'\n",
      "<>:2: SyntaxWarning: invalid escape sequence '\\.'\n",
      "<>:3: SyntaxWarning: invalid escape sequence '\\.'\n",
      "C:\\Users\\BingruYan\\AppData\\Local\\Temp\\ipykernel_3276\\1554336877.py:2: SyntaxWarning: invalid escape sequence '\\.'\n",
      "  train['Title'] = train['Name'].str.extract(' ([A-Za-z]+)\\.', expand=False)\n",
      "C:\\Users\\BingruYan\\AppData\\Local\\Temp\\ipykernel_3276\\1554336877.py:3: SyntaxWarning: invalid escape sequence '\\.'\n",
      "  test['Title'] = test['Name'].str.extract(' ([A-Za-z]+)\\.', expand=False)\n"
     ]
    }
   ],
   "source": [
    "# 提取头衔\n",
    "train['Title'] = train['Name'].str.extract(' ([A-Za-z]+)\\.', expand=False)\n",
    "test['Title'] = test['Name'].str.extract(' ([A-Za-z]+)\\.', expand=False)\n",
    "\n",
    "# 归并稀有头衔\n",
    "for dataset in [train, test]:\n",
    "    dataset['Title'] = dataset['Title'].replace(['Lady', 'Countess', 'Capt', 'Col', 'Don', 'Dr', 'Major', 'Rev', 'Sir', 'Jonkheer', 'Dona'], 'Rare')\n",
    "    dataset['Title'] = dataset['Title'].replace(['Mlle', 'Ms'], 'Miss')\n",
    "    dataset['Title'] = dataset['Title'].replace('Mme', 'Mrs')\n",
    "\n",
    "# 创建家庭规模与单身特征\n",
    "for dataset in [train, test]:\n",
    "    dataset['FamilySize'] = dataset['SibSp'] + dataset['Parch'] + 1\n",
    "    dataset['IsAlone'] = 0\n",
    "    dataset.loc[dataset['FamilySize'] == 1, 'IsAlone'] = 1\n"
   ]
  },
  {
   "cell_type": "code",
   "execution_count": 14,
   "id": "ee42269b-edf0-4581-b5f9-acd8576beb5a",
   "metadata": {
    "execution": {
     "iopub.execute_input": "2024-11-01T07:52:00.779678Z",
     "iopub.status.busy": "2024-11-01T07:52:00.779678Z",
     "iopub.status.idle": "2024-11-01T07:52:00.795838Z",
     "shell.execute_reply": "2024-11-01T07:52:00.795838Z",
     "shell.execute_reply.started": "2024-11-01T07:52:00.779678Z"
    }
   },
   "outputs": [],
   "source": [
    "# 性别与港口等特征编码\n",
    "train = pd.get_dummies(train, columns=['Sex', 'Embarked', 'Title'], drop_first=True)\n",
    "test = pd.get_dummies(test, columns=['Sex', 'Embarked', 'Title'], drop_first=True)\n"
   ]
  },
  {
   "cell_type": "code",
   "execution_count": 16,
   "id": "8af8f8c5-2c36-43b3-aa34-0c5b45ff8bdc",
   "metadata": {
    "execution": {
     "iopub.execute_input": "2024-11-01T07:52:05.696796Z",
     "iopub.status.busy": "2024-11-01T07:52:05.696796Z",
     "iopub.status.idle": "2024-11-01T07:52:07.874204Z",
     "shell.execute_reply": "2024-11-01T07:52:07.874204Z",
     "shell.execute_reply.started": "2024-11-01T07:52:05.696796Z"
    }
   },
   "outputs": [
    {
     "name": "stderr",
     "output_type": "stream",
     "text": [
      "C:\\Users\\BingruYan\\anaconda3\\Lib\\site-packages\\sklearn\\linear_model\\_logistic.py:469: ConvergenceWarning: lbfgs failed to converge (status=1):\n",
      "STOP: TOTAL NO. of ITERATIONS REACHED LIMIT.\n",
      "\n",
      "Increase the number of iterations (max_iter) or scale the data as shown in:\n",
      "    https://scikit-learn.org/stable/modules/preprocessing.html\n",
      "Please also refer to the documentation for alternative solver options:\n",
      "    https://scikit-learn.org/stable/modules/linear_model.html#logistic-regression\n",
      "  n_iter_i = _check_optimize_result(\n",
      "C:\\Users\\BingruYan\\anaconda3\\Lib\\site-packages\\sklearn\\linear_model\\_logistic.py:469: ConvergenceWarning: lbfgs failed to converge (status=1):\n",
      "STOP: TOTAL NO. of ITERATIONS REACHED LIMIT.\n",
      "\n",
      "Increase the number of iterations (max_iter) or scale the data as shown in:\n",
      "    https://scikit-learn.org/stable/modules/preprocessing.html\n",
      "Please also refer to the documentation for alternative solver options:\n",
      "    https://scikit-learn.org/stable/modules/linear_model.html#logistic-regression\n",
      "  n_iter_i = _check_optimize_result(\n",
      "C:\\Users\\BingruYan\\anaconda3\\Lib\\site-packages\\sklearn\\linear_model\\_logistic.py:469: ConvergenceWarning: lbfgs failed to converge (status=1):\n",
      "STOP: TOTAL NO. of ITERATIONS REACHED LIMIT.\n",
      "\n",
      "Increase the number of iterations (max_iter) or scale the data as shown in:\n",
      "    https://scikit-learn.org/stable/modules/preprocessing.html\n",
      "Please also refer to the documentation for alternative solver options:\n",
      "    https://scikit-learn.org/stable/modules/linear_model.html#logistic-regression\n",
      "  n_iter_i = _check_optimize_result(\n",
      "C:\\Users\\BingruYan\\anaconda3\\Lib\\site-packages\\sklearn\\linear_model\\_logistic.py:469: ConvergenceWarning: lbfgs failed to converge (status=1):\n",
      "STOP: TOTAL NO. of ITERATIONS REACHED LIMIT.\n",
      "\n",
      "Increase the number of iterations (max_iter) or scale the data as shown in:\n",
      "    https://scikit-learn.org/stable/modules/preprocessing.html\n",
      "Please also refer to the documentation for alternative solver options:\n",
      "    https://scikit-learn.org/stable/modules/linear_model.html#logistic-regression\n",
      "  n_iter_i = _check_optimize_result(\n",
      "C:\\Users\\BingruYan\\anaconda3\\Lib\\site-packages\\sklearn\\linear_model\\_logistic.py:469: ConvergenceWarning: lbfgs failed to converge (status=1):\n",
      "STOP: TOTAL NO. of ITERATIONS REACHED LIMIT.\n",
      "\n",
      "Increase the number of iterations (max_iter) or scale the data as shown in:\n",
      "    https://scikit-learn.org/stable/modules/preprocessing.html\n",
      "Please also refer to the documentation for alternative solver options:\n",
      "    https://scikit-learn.org/stable/modules/linear_model.html#logistic-regression\n",
      "  n_iter_i = _check_optimize_result(\n",
      "C:\\Users\\BingruYan\\anaconda3\\Lib\\site-packages\\sklearn\\linear_model\\_logistic.py:469: ConvergenceWarning: lbfgs failed to converge (status=1):\n",
      "STOP: TOTAL NO. of ITERATIONS REACHED LIMIT.\n",
      "\n",
      "Increase the number of iterations (max_iter) or scale the data as shown in:\n",
      "    https://scikit-learn.org/stable/modules/preprocessing.html\n",
      "Please also refer to the documentation for alternative solver options:\n",
      "    https://scikit-learn.org/stable/modules/linear_model.html#logistic-regression\n",
      "  n_iter_i = _check_optimize_result(\n"
     ]
    },
    {
     "name": "stdout",
     "output_type": "stream",
     "text": [
      "Logistic Regression: 0.8193\n",
      "Random Forest: 0.8070\n",
      "Gradient Boosting: 0.8294\n",
      "Support Vector Machine: 0.6713\n"
     ]
    }
   ],
   "source": [
    "from sklearn.linear_model import LogisticRegression\n",
    "from sklearn.ensemble import RandomForestClassifier, GradientBoostingClassifier\n",
    "from sklearn.svm import SVC\n",
    "from sklearn.model_selection import train_test_split, cross_val_score\n",
    "\n",
    "# 训练集和标签\n",
    "X = train.drop(['Survived', 'PassengerId', 'Name', 'Ticket', 'Cabin'], axis=1)\n",
    "y = train['Survived']\n",
    "\n",
    "# 简单分割测试\n",
    "X_train, X_val, y_train, y_val = train_test_split(X, y, test_size=0.2, random_state=0)\n",
    "\n",
    "# 模型训练\n",
    "models = {\n",
    "    \"Logistic Regression\": LogisticRegression(max_iter=200),\n",
    "    \"Random Forest\": RandomForestClassifier(n_estimators=100, random_state=0),\n",
    "    \"Gradient Boosting\": GradientBoostingClassifier(n_estimators=100, random_state=0),\n",
    "    \"Support Vector Machine\": SVC(probability=True)\n",
    "}\n",
    "\n",
    "# 比较各模型表现\n",
    "for name, model in models.items():\n",
    "    model.fit(X_train, y_train)\n",
    "    score = cross_val_score(model, X, y, cv=5).mean()\n",
    "    print(f\"{name}: {score:.4f}\")\n"
   ]
  },
  {
   "cell_type": "code",
   "execution_count": 18,
   "id": "c0be1bc6-a827-40a9-a386-c09e252e08ea",
   "metadata": {
    "execution": {
     "iopub.execute_input": "2024-11-01T07:52:35.619240Z",
     "iopub.status.busy": "2024-11-01T07:52:35.618249Z",
     "iopub.status.idle": "2024-11-01T07:53:25.307388Z",
     "shell.execute_reply": "2024-11-01T07:53:25.307388Z",
     "shell.execute_reply.started": "2024-11-01T07:52:35.619240Z"
    }
   },
   "outputs": [
    {
     "name": "stdout",
     "output_type": "stream",
     "text": [
      "Best parameters: {'max_depth': 4, 'min_samples_split': 2, 'n_estimators': 100}\n",
      "Best cross-validation score: 0.8417613458037788\n"
     ]
    }
   ],
   "source": [
    "from sklearn.model_selection import GridSearchCV\n",
    "\n",
    "# 网格搜索参数\n",
    "param_grid = {\n",
    "    'n_estimators': [100, 200, 300],\n",
    "    'max_depth': [4, 6, 8],\n",
    "    'min_samples_split': [2, 5, 10]\n",
    "}\n",
    "grid_search = GridSearchCV(GradientBoostingClassifier(random_state=0), param_grid, cv=5, scoring='accuracy')\n",
    "grid_search.fit(X, y)\n",
    "\n",
    "print(\"Best parameters:\", grid_search.best_params_)\n",
    "print(\"Best cross-validation score:\", grid_search.best_score_)\n"
   ]
  },
  {
   "cell_type": "code",
   "execution_count": 20,
   "id": "3cf95fb8-aef8-459c-853e-74e0763d1bfa",
   "metadata": {
    "execution": {
     "iopub.execute_input": "2024-11-01T07:55:10.605883Z",
     "iopub.status.busy": "2024-11-01T07:55:10.605883Z",
     "iopub.status.idle": "2024-11-01T07:55:12.867612Z",
     "shell.execute_reply": "2024-11-01T07:55:12.867612Z",
     "shell.execute_reply.started": "2024-11-01T07:55:10.605883Z"
    }
   },
   "outputs": [
    {
     "name": "stderr",
     "output_type": "stream",
     "text": [
      "C:\\Users\\BingruYan\\anaconda3\\Lib\\site-packages\\sklearn\\linear_model\\_logistic.py:469: ConvergenceWarning: lbfgs failed to converge (status=1):\n",
      "STOP: TOTAL NO. of ITERATIONS REACHED LIMIT.\n",
      "\n",
      "Increase the number of iterations (max_iter) or scale the data as shown in:\n",
      "    https://scikit-learn.org/stable/modules/preprocessing.html\n",
      "Please also refer to the documentation for alternative solver options:\n",
      "    https://scikit-learn.org/stable/modules/linear_model.html#logistic-regression\n",
      "  n_iter_i = _check_optimize_result(\n",
      "C:\\Users\\BingruYan\\anaconda3\\Lib\\site-packages\\sklearn\\linear_model\\_logistic.py:469: ConvergenceWarning: lbfgs failed to converge (status=1):\n",
      "STOP: TOTAL NO. of ITERATIONS REACHED LIMIT.\n",
      "\n",
      "Increase the number of iterations (max_iter) or scale the data as shown in:\n",
      "    https://scikit-learn.org/stable/modules/preprocessing.html\n",
      "Please also refer to the documentation for alternative solver options:\n",
      "    https://scikit-learn.org/stable/modules/linear_model.html#logistic-regression\n",
      "  n_iter_i = _check_optimize_result(\n",
      "C:\\Users\\BingruYan\\anaconda3\\Lib\\site-packages\\sklearn\\linear_model\\_logistic.py:469: ConvergenceWarning: lbfgs failed to converge (status=1):\n",
      "STOP: TOTAL NO. of ITERATIONS REACHED LIMIT.\n",
      "\n",
      "Increase the number of iterations (max_iter) or scale the data as shown in:\n",
      "    https://scikit-learn.org/stable/modules/preprocessing.html\n",
      "Please also refer to the documentation for alternative solver options:\n",
      "    https://scikit-learn.org/stable/modules/linear_model.html#logistic-regression\n",
      "  n_iter_i = _check_optimize_result(\n",
      "C:\\Users\\BingruYan\\anaconda3\\Lib\\site-packages\\sklearn\\linear_model\\_logistic.py:469: ConvergenceWarning: lbfgs failed to converge (status=1):\n",
      "STOP: TOTAL NO. of ITERATIONS REACHED LIMIT.\n",
      "\n",
      "Increase the number of iterations (max_iter) or scale the data as shown in:\n",
      "    https://scikit-learn.org/stable/modules/preprocessing.html\n",
      "Please also refer to the documentation for alternative solver options:\n",
      "    https://scikit-learn.org/stable/modules/linear_model.html#logistic-regression\n",
      "  n_iter_i = _check_optimize_result(\n",
      "C:\\Users\\BingruYan\\anaconda3\\Lib\\site-packages\\sklearn\\linear_model\\_logistic.py:469: ConvergenceWarning: lbfgs failed to converge (status=1):\n",
      "STOP: TOTAL NO. of ITERATIONS REACHED LIMIT.\n",
      "\n",
      "Increase the number of iterations (max_iter) or scale the data as shown in:\n",
      "    https://scikit-learn.org/stable/modules/preprocessing.html\n",
      "Please also refer to the documentation for alternative solver options:\n",
      "    https://scikit-learn.org/stable/modules/linear_model.html#logistic-regression\n",
      "  n_iter_i = _check_optimize_result(\n",
      "C:\\Users\\BingruYan\\anaconda3\\Lib\\site-packages\\sklearn\\linear_model\\_logistic.py:469: ConvergenceWarning: lbfgs failed to converge (status=1):\n",
      "STOP: TOTAL NO. of ITERATIONS REACHED LIMIT.\n",
      "\n",
      "Increase the number of iterations (max_iter) or scale the data as shown in:\n",
      "    https://scikit-learn.org/stable/modules/preprocessing.html\n",
      "Please also refer to the documentation for alternative solver options:\n",
      "    https://scikit-learn.org/stable/modules/linear_model.html#logistic-regression\n",
      "  n_iter_i = _check_optimize_result(\n"
     ]
    },
    {
     "name": "stdout",
     "output_type": "stream",
     "text": [
      "Voting Classifier score: 0.8338961772644529\n"
     ]
    }
   ],
   "source": [
    "from sklearn.ensemble import VotingClassifier\n",
    "\n",
    "voting_clf = VotingClassifier(\n",
    "    estimators=[\n",
    "        ('lr', LogisticRegression(max_iter=200)),\n",
    "        ('rf', RandomForestClassifier(n_estimators=300, max_depth=8, random_state=0)),\n",
    "        ('gb', GradientBoostingClassifier(n_estimators=100, max_depth=4,min_samples_split=2, random_state=0))\n",
    "    ],\n",
    "    voting='soft'\n",
    ")\n",
    "\n",
    "voting_clf.fit(X_train, y_train)\n",
    "voting_score = cross_val_score(voting_clf, X, y, cv=5).mean()\n",
    "print(\"Voting Classifier score:\", voting_score)\n"
   ]
  },
  {
   "cell_type": "code",
   "execution_count": 32,
   "id": "47fb055b-b567-46ff-8133-fb4cf193f9a8",
   "metadata": {
    "execution": {
     "iopub.execute_input": "2024-11-01T07:58:04.238180Z",
     "iopub.status.busy": "2024-11-01T07:58:04.238180Z",
     "iopub.status.idle": "2024-11-01T07:58:04.242578Z",
     "shell.execute_reply": "2024-11-01T07:58:04.242578Z",
     "shell.execute_reply.started": "2024-11-01T07:58:04.238180Z"
    }
   },
   "outputs": [
    {
     "name": "stderr",
     "output_type": "stream",
     "text": [
      "C:\\Users\\BingruYan\\AppData\\Local\\Temp\\ipykernel_3276\\1721981417.py:1: FutureWarning: A value is trying to be set on a copy of a DataFrame or Series through chained assignment using an inplace method.\n",
      "The behavior will change in pandas 3.0. This inplace method will never work because the intermediate object on which we are setting values always behaves as a copy.\n",
      "\n",
      "For example, when doing 'df[col].method(value, inplace=True)', try using 'df.method({col: value}, inplace=True)' or df[col] = df[col].method(value) instead, to perform the operation inplace on the original object.\n",
      "\n",
      "\n",
      "  test[\"Fare\"].fillna(X_test[\"Fare\"].median(),inplace=True)\n"
     ]
    }
   ],
   "source": [
    "test[\"Fare\"].fillna(X_test[\"Fare\"].median(),inplace=True)"
   ]
  },
  {
   "cell_type": "code",
   "execution_count": 34,
   "id": "982e1a79-5ec7-4ea4-b286-253f6fb11ca7",
   "metadata": {
    "execution": {
     "iopub.execute_input": "2024-11-01T07:58:08.260238Z",
     "iopub.status.busy": "2024-11-01T07:58:08.260238Z",
     "iopub.status.idle": "2024-11-01T07:58:08.281787Z",
     "shell.execute_reply": "2024-11-01T07:58:08.281787Z",
     "shell.execute_reply.started": "2024-11-01T07:58:08.260238Z"
    }
   },
   "outputs": [],
   "source": [
    "# 测试集预测\n",
    "X_test = test.drop(['PassengerId', 'Name', 'Ticket', 'Cabin'], axis=1)\n",
    "predictions = voting_clf.predict(X_test)\n",
    "\n",
    "# 生成提交文件\n",
    "submission = pd.DataFrame({'PassengerId': test['PassengerId'], 'Survived': predictions})\n",
    "submission.to_csv('submission_ChatGPT.csv', index=False)\n"
   ]
  },
  {
   "cell_type": "code",
   "execution_count": null,
   "id": "753556e7-797f-44ae-9901-fe0647e6b163",
   "metadata": {},
   "outputs": [],
   "source": []
  }
 ],
 "metadata": {
  "kernelspec": {
   "display_name": "Python 3 (ipykernel)",
   "language": "python",
   "name": "python3"
  },
  "language_info": {
   "codemirror_mode": {
    "name": "ipython",
    "version": 3
   },
   "file_extension": ".py",
   "mimetype": "text/x-python",
   "name": "python",
   "nbconvert_exporter": "python",
   "pygments_lexer": "ipython3",
   "version": "3.12.3"
  }
 },
 "nbformat": 4,
 "nbformat_minor": 5
}
